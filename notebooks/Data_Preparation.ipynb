{
 "cells": [
  {
   "cell_type": "markdown",
   "metadata": {},
   "source": [
    "# Importing Libraries"
   ]
  },
  {
   "cell_type": "code",
   "execution_count": 3,
   "metadata": {},
   "outputs": [
    {
     "name": "stdout",
     "output_type": "stream",
     "text": [
      "Pandas 2.2.2\n"
     ]
    }
   ],
   "source": [
    "import pandas as pd # Version '2.2.2'\n",
    "\n",
    "print('Pandas', pd.__version__)"
   ]
  },
  {
   "cell_type": "markdown",
   "metadata": {},
   "source": [
    "# Loading Dataset"
   ]
  },
  {
   "cell_type": "code",
   "execution_count": 4,
   "metadata": {},
   "outputs": [],
   "source": [
    "df = pd.read_excel('../datasets/uybor.xlsx')"
   ]
  },
  {
   "cell_type": "code",
   "execution_count": 5,
   "metadata": {},
   "outputs": [
    {
     "data": {
      "text/html": [
       "<div>\n",
       "<style scoped>\n",
       "    .dataframe tbody tr th:only-of-type {\n",
       "        vertical-align: middle;\n",
       "    }\n",
       "\n",
       "    .dataframe tbody tr th {\n",
       "        vertical-align: top;\n",
       "    }\n",
       "\n",
       "    .dataframe thead th {\n",
       "        text-align: right;\n",
       "    }\n",
       "</style>\n",
       "<table border=\"1\" class=\"dataframe\">\n",
       "  <thead>\n",
       "    <tr style=\"text-align: right;\">\n",
       "      <th></th>\n",
       "      <th>lng</th>\n",
       "      <th>lat</th>\n",
       "      <th>maydoni</th>\n",
       "      <th>xonalar_soni</th>\n",
       "      <th>kv_qavat</th>\n",
       "      <th>qavatlar_soni</th>\n",
       "      <th>tuman</th>\n",
       "      <th>manzil</th>\n",
       "      <th>narxi</th>\n",
       "    </tr>\n",
       "  </thead>\n",
       "  <tbody>\n",
       "    <tr>\n",
       "      <th>0</th>\n",
       "      <td>69.281049</td>\n",
       "      <td>41.371471</td>\n",
       "      <td>57.0</td>\n",
       "      <td>3</td>\n",
       "      <td>4</td>\n",
       "      <td>4</td>\n",
       "      <td>Yunusobod</td>\n",
       "      <td>город Ташкент, Yunusobod район, Юнусабад 8-й к...</td>\n",
       "      <td>52000</td>\n",
       "    </tr>\n",
       "    <tr>\n",
       "      <th>1</th>\n",
       "      <td>69.261104</td>\n",
       "      <td>41.291115</td>\n",
       "      <td>52.0</td>\n",
       "      <td>2</td>\n",
       "      <td>4</td>\n",
       "      <td>5</td>\n",
       "      <td>Yakkasaroy</td>\n",
       "      <td>город Ташкент, Yakkasaroy район, 1-й тупик Шот...</td>\n",
       "      <td>56000</td>\n",
       "    </tr>\n",
       "    <tr>\n",
       "      <th>2</th>\n",
       "      <td>69.223683</td>\n",
       "      <td>41.280784</td>\n",
       "      <td>42.0</td>\n",
       "      <td>2</td>\n",
       "      <td>4</td>\n",
       "      <td>4</td>\n",
       "      <td>Chilonzor</td>\n",
       "      <td>город Ташкент, Chilonzor район, Чиланзар 2-й к...</td>\n",
       "      <td>37000</td>\n",
       "    </tr>\n",
       "    <tr>\n",
       "      <th>3</th>\n",
       "      <td>69.196862</td>\n",
       "      <td>41.290163</td>\n",
       "      <td>65.0</td>\n",
       "      <td>3</td>\n",
       "      <td>1</td>\n",
       "      <td>4</td>\n",
       "      <td>Chilonzor</td>\n",
       "      <td>город Ташкент, Chilonzor район, Чиланзар 9-й к...</td>\n",
       "      <td>49500</td>\n",
       "    </tr>\n",
       "    <tr>\n",
       "      <th>4</th>\n",
       "      <td>69.210831</td>\n",
       "      <td>41.300156</td>\n",
       "      <td>70.0</td>\n",
       "      <td>3</td>\n",
       "      <td>3</td>\n",
       "      <td>5</td>\n",
       "      <td>Chilonzor</td>\n",
       "      <td>город Ташкент, Chilonzor район, площадь Актепа</td>\n",
       "      <td>55000</td>\n",
       "    </tr>\n",
       "  </tbody>\n",
       "</table>\n",
       "</div>"
      ],
      "text/plain": [
       "         lng        lat  maydoni  xonalar_soni  kv_qavat  qavatlar_soni  \\\n",
       "0  69.281049  41.371471     57.0             3         4              4   \n",
       "1  69.261104  41.291115     52.0             2         4              5   \n",
       "2  69.223683  41.280784     42.0             2         4              4   \n",
       "3  69.196862  41.290163     65.0             3         1              4   \n",
       "4  69.210831  41.300156     70.0             3         3              5   \n",
       "\n",
       "        tuman                                             manzil  narxi  \n",
       "0   Yunusobod  город Ташкент, Yunusobod район, Юнусабад 8-й к...  52000  \n",
       "1  Yakkasaroy  город Ташкент, Yakkasaroy район, 1-й тупик Шот...  56000  \n",
       "2   Chilonzor  город Ташкент, Chilonzor район, Чиланзар 2-й к...  37000  \n",
       "3   Chilonzor  город Ташкент, Chilonzor район, Чиланзар 9-й к...  49500  \n",
       "4   Chilonzor     город Ташкент, Chilonzor район, площадь Актепа  55000  "
      ]
     },
     "execution_count": 5,
     "metadata": {},
     "output_type": "execute_result"
    }
   ],
   "source": [
    "cols = [\n",
    "    'manzil',\n",
    "    'tuman',\n",
    "    'xonalar_soni',\n",
    "    'maydoni',\n",
    "    'kv_qavat',\n",
    "    'qavatlar_soni',\n",
    "    'narxi',\n",
    "    'lat',\n",
    "    'lng'\n",
    "]\n",
    "\n",
    "df.columns = cols\n",
    "df = df[['lng', 'lat', 'maydoni', 'xonalar_soni', 'kv_qavat', 'qavatlar_soni', 'tuman', 'manzil','narxi']]\n",
    "df.head()\n"
   ]
  },
  {
   "cell_type": "markdown",
   "metadata": {},
   "source": [
    "# Data Export"
   ]
  },
  {
   "cell_type": "code",
   "execution_count": 6,
   "metadata": {},
   "outputs": [],
   "source": [
    "df.to_csv('../datasets/data.csv', index=False)"
   ]
  }
 ],
 "metadata": {
  "kernelspec": {
   "display_name": "Python 3",
   "language": "python",
   "name": "python3"
  },
  "language_info": {
   "codemirror_mode": {
    "name": "ipython",
    "version": 3
   },
   "file_extension": ".py",
   "mimetype": "text/x-python",
   "name": "python",
   "nbconvert_exporter": "python",
   "pygments_lexer": "ipython3",
   "version": "3.12.0"
  }
 },
 "nbformat": 4,
 "nbformat_minor": 2
}
